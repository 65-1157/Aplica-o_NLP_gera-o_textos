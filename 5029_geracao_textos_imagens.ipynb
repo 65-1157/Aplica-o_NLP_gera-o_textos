{
 "cells": [
  {
   "cell_type": "code",
   "execution_count": 1,
   "metadata": {},
   "outputs": [],
   "source": [
    "# https://medium.com/swlh/automatic-image-captioning-using-deep-learning-5e899c127387"
   ]
  },
  {
   "cell_type": "code",
   "execution_count": 2,
   "metadata": {},
   "outputs": [
    {
     "name": "stderr",
     "output_type": "stream",
     "text": [
      "Using TensorFlow backend.\n"
     ]
    }
   ],
   "source": [
    "# Bibliotecas\n",
    "\n",
    "from os import listdir\n",
    "from pickle import dump\n",
    "from keras.applications.vgg16 import VGG16\n",
    "from keras.preprocessing.image import load_img\n",
    "from keras.preprocessing.image import img_to_array\n",
    "from keras.applications.vgg16 import preprocess_input\n",
    "from keras.models import Model\n",
    "import pandas as pd\n",
    "import nltk\n",
    "import re\n",
    "from nltk.stem import WordNetLemmatizer\n",
    "from keras.preprocessing.sequence import pad_sequences\n",
    "from tensorflow.keras.utils import to_categorical\n",
    "import numpy as np\n",
    "from keras.layers import Input , Dense , LSTM , Embedding , Dropout\n",
    "from keras.layers.merge import add\n",
    "from keras.callbacks import EarlyStopping\n",
    "from keras.models import load_model\n",
    "from tensorflow.keras.preprocessing.text import Tokenizer\n",
    "from nltk.translate.bleu_score import corpus_bleu\n",
    "from pickle import load\n",
    "from keras.preprocessing.sequence import pad_sequences"
   ]
  },
  {
   "cell_type": "code",
   "execution_count": 3,
   "metadata": {},
   "outputs": [
    {
     "name": "stdout",
     "output_type": "stream",
     "text": [
      "Requirement already up-to-date: nltk in c:\\users\\aferr\\appdata\\roaming\\python\\python37\\site-packages (3.6.2)\n",
      "Requirement already satisfied, skipping upgrade: click in c:\\users\\aferr\\anaconda3\\lib\\site-packages (from nltk) (7.0)\n",
      "Requirement already satisfied, skipping upgrade: regex in c:\\users\\aferr\\anaconda3\\lib\\site-packages (from nltk) (2021.8.3)\n",
      "Requirement already satisfied, skipping upgrade: tqdm in c:\\users\\aferr\\anaconda3\\lib\\site-packages (from nltk) (4.50.0)\n",
      "Requirement already satisfied, skipping upgrade: joblib in c:\\users\\aferr\\anaconda3\\lib\\site-packages (from nltk) (0.14.0)\n",
      "Note: you may need to restart the kernel to use updated packages.\n"
     ]
    }
   ],
   "source": [
    " pip install --user -U nltk"
   ]
  },
  {
   "cell_type": "code",
   "execution_count": 4,
   "metadata": {},
   "outputs": [
    {
     "name": "stderr",
     "output_type": "stream",
     "text": [
      "[nltk_data] Downloading package wordnet to\n",
      "[nltk_data]     C:\\Users\\aferr\\AppData\\Roaming\\nltk_data...\n",
      "[nltk_data]   Package wordnet is already up-to-date!\n"
     ]
    }
   ],
   "source": [
    "import nltk\n",
    "nltk.download('wordnet')\n",
    "import re\n",
    "from nltk.stem import WordNetLemmatizer"
   ]
  },
  {
   "cell_type": "markdown",
   "metadata": {},
   "source": [
    "## Pre_processamento"
   ]
  },
  {
   "cell_type": "code",
   "execution_count": 5,
   "metadata": {},
   "outputs": [],
   "source": [
    "# Pre_processamento\n",
    "\n",
    "# uso da função VGG16_keras_processamento_digital_imagens\n",
    "def extract_features(directory):\n",
    "    model = VGG16()\n",
    "    \n",
    "    #remoção da última camada\n",
    "    model.layers.pop()\n",
    "    \n",
    "    model = Model(inputs = model.inputs , outputs = model.layers[-1].output)\n",
    "    \n",
    "    print(model.summary())\n",
    "    \n",
    "    features = dict()\n",
    "    \n",
    "    for name in listdir(directory):\n",
    "        \n",
    "        # load and image\n",
    "        filename = directory + '/' + name\n",
    "        image = load_img(filename , target_size=(224 , 224))\n",
    "        \n",
    "        image = img_to_array(image)\n",
    "        \n",
    "        image = image.reshape((1 , image.shape[0] , image.shape[1] ,image.shape[2]))\n",
    "        \n",
    "        image = preprocess_input(image)\n",
    "        \n",
    "        feature = model.predict(image , verbose = 0)\n",
    "        \n",
    "        # identificação da imagem\n",
    "        image_id = name.split(\".\")[0]\n",
    "        \n",
    "        # armazenar 'features'\n",
    "        features[image_id] = feature\n",
    "        \n",
    "        print(name)\n",
    "        \n",
    "    return features\n",
    "\n",
    "# directory = 'Dataset/flickr30k_dataset'\n",
    "# features = extract_features(directory)\n",
    "# print('extracted features :',len(features))\n",
    "# dump(features , open('features.pkl' , 'wb'))"
   ]
  },
  {
   "cell_type": "code",
   "execution_count": 6,
   "metadata": {},
   "outputs": [],
   "source": [
    "# Funções de pré_processamento\n",
    "lemma = WordNetLemmatizer()\n",
    "\n",
    "def load_decriptions(doc):\n",
    "    mapping = dict()\n",
    "    \n",
    "    for i in range(len(doc)):\n",
    "        image_id = doc['image_id'][i]\n",
    "        image_desc = doc['desc'][i]\n",
    "        \n",
    "        if image_id not in mapping:\n",
    "            mapping[image_id] = list()\n",
    "        \n",
    "        mapping[image_id].append(image_desc)\n",
    "        \n",
    "    return mapping\n",
    "\n",
    "def clean_text(desc):\n",
    "    \n",
    "    # clean punctuation\n",
    "    desc = re.sub(r'[^\\w\\s]' ,'', desc)\n",
    "    \n",
    "    # tokenize the words\n",
    "    desc = desc.split()\n",
    "    \n",
    "    # convert to lower case\n",
    "    desc = [token.lower() for token in desc]\n",
    "    \n",
    "    # lemmatization\n",
    "    desc = [lemma.lemmatize(token) for token in desc]\n",
    "    \n",
    "    # remove numerical values\n",
    "    desc = [token for token in desc if token.isalpha()]\n",
    "    \n",
    "    # join whole token\n",
    "    desc = ' '.join(desc)\n",
    "    \n",
    "    return desc\n",
    "\n",
    "# conversão das descrições em vocábulos\n",
    "def to_vocabluary(descriptions):\n",
    "    all_desc = set()\n",
    "    \n",
    "    for key in descriptions.keys():\n",
    "        [all_desc.update(d.split()) for d in descriptions[key]]\n",
    "        \n",
    "    return all_desc\n",
    "\n",
    "def save_descriptions(descriptions , filename):\n",
    "    lines = list()\n",
    "    \n",
    "    for key , desc_list in descriptions.items():\n",
    "        for desc in desc_list:\n",
    "            lines.append(key +' '+ desc)\n",
    "            \n",
    "    data = '\\n'.join(lines)\n",
    "    file = open(filename , 'w')\n",
    "    file.write(data)\n",
    "    file.close()"
   ]
  },
  {
   "cell_type": "markdown",
   "metadata": {},
   "source": [
    "## Dataset"
   ]
  },
  {
   "cell_type": "code",
   "execution_count": 186,
   "metadata": {},
   "outputs": [],
   "source": [
    "# carregamento do dataset\n",
    "descriptions = pd.read_csv('results1.csv' , sep='|')"
   ]
  },
  {
   "cell_type": "code",
   "execution_count": 187,
   "metadata": {},
   "outputs": [],
   "source": [
    "# atribuição de nomes para colunas\n",
    "descriptions.columns = ['image_id','no','desc']"
   ]
  },
  {
   "cell_type": "code",
   "execution_count": 188,
   "metadata": {},
   "outputs": [
    {
     "data": {
      "text/html": [
       "<div>\n",
       "<style scoped>\n",
       "    .dataframe tbody tr th:only-of-type {\n",
       "        vertical-align: middle;\n",
       "    }\n",
       "\n",
       "    .dataframe tbody tr th {\n",
       "        vertical-align: top;\n",
       "    }\n",
       "\n",
       "    .dataframe thead th {\n",
       "        text-align: right;\n",
       "    }\n",
       "</style>\n",
       "<table border=\"1\" class=\"dataframe\">\n",
       "  <thead>\n",
       "    <tr style=\"text-align: right;\">\n",
       "      <th></th>\n",
       "      <th>image_id</th>\n",
       "      <th>no</th>\n",
       "      <th>desc</th>\n",
       "    </tr>\n",
       "  </thead>\n",
       "  <tbody>\n",
       "    <tr>\n",
       "      <td>0</td>\n",
       "      <td>19663663.jpg</td>\n",
       "      <td>0</td>\n",
       "      <td>Four young adults sit outside on a wooden dec...</td>\n",
       "    </tr>\n",
       "    <tr>\n",
       "      <td>1</td>\n",
       "      <td>19663663.jpg</td>\n",
       "      <td>1</td>\n",
       "      <td>A group of young people sitting around visiti...</td>\n",
       "    </tr>\n",
       "  </tbody>\n",
       "</table>\n",
       "</div>"
      ],
      "text/plain": [
       "       image_id  no                                               desc\n",
       "0  19663663.jpg   0   Four young adults sit outside on a wooden dec...\n",
       "1  19663663.jpg   1   A group of young people sitting around visiti..."
      ]
     },
     "execution_count": 188,
     "metadata": {},
     "output_type": "execute_result"
    }
   ],
   "source": [
    "descriptions.head(2)"
   ]
  },
  {
   "cell_type": "code",
   "execution_count": 189,
   "metadata": {},
   "outputs": [
    {
     "data": {
      "text/html": [
       "<div>\n",
       "<style scoped>\n",
       "    .dataframe tbody tr th:only-of-type {\n",
       "        vertical-align: middle;\n",
       "    }\n",
       "\n",
       "    .dataframe tbody tr th {\n",
       "        vertical-align: top;\n",
       "    }\n",
       "\n",
       "    .dataframe thead th {\n",
       "        text-align: right;\n",
       "    }\n",
       "</style>\n",
       "<table border=\"1\" class=\"dataframe\">\n",
       "  <thead>\n",
       "    <tr style=\"text-align: right;\">\n",
       "      <th></th>\n",
       "      <th>image_id</th>\n",
       "      <th>no</th>\n",
       "      <th>desc</th>\n",
       "    </tr>\n",
       "  </thead>\n",
       "  <tbody>\n",
       "    <tr>\n",
       "      <td>205</td>\n",
       "      <td>1012328893.jpg</td>\n",
       "      <td>0</td>\n",
       "      <td>A group of people picnicking at picnic tables...</td>\n",
       "    </tr>\n",
       "    <tr>\n",
       "      <td>206</td>\n",
       "      <td>1012328893.jpg</td>\n",
       "      <td>1</td>\n",
       "      <td>A group of people enjoying a beautiful day in...</td>\n",
       "    </tr>\n",
       "    <tr>\n",
       "      <td>207</td>\n",
       "      <td>1012328893.jpg</td>\n",
       "      <td>2</td>\n",
       "      <td>A group of people are having a picnic at the ...</td>\n",
       "    </tr>\n",
       "    <tr>\n",
       "      <td>208</td>\n",
       "      <td>1012328893.jpg</td>\n",
       "      <td>3</td>\n",
       "      <td>The reunion is in full swing with a moon boun...</td>\n",
       "    </tr>\n",
       "    <tr>\n",
       "      <td>209</td>\n",
       "      <td>1012328893.jpg</td>\n",
       "      <td>4</td>\n",
       "      <td>A group of people having a barbecue at a park .</td>\n",
       "    </tr>\n",
       "    <tr>\n",
       "      <td>210</td>\n",
       "      <td>101262930.jpg</td>\n",
       "      <td>0</td>\n",
       "      <td>Two asian or spanish people , a woman and a m...</td>\n",
       "    </tr>\n",
       "    <tr>\n",
       "      <td>211</td>\n",
       "      <td>101262930.jpg</td>\n",
       "      <td>1</td>\n",
       "      <td>A man in sunglasses puts his arm around a wom...</td>\n",
       "    </tr>\n",
       "    <tr>\n",
       "      <td>212</td>\n",
       "      <td>101262930.jpg</td>\n",
       "      <td>2</td>\n",
       "      <td>A man in sunglasses puts his arm around a wom...</td>\n",
       "    </tr>\n",
       "    <tr>\n",
       "      <td>213</td>\n",
       "      <td>101262930.jpg</td>\n",
       "      <td>3</td>\n",
       "      <td>A man and woman pose in front of some traffic .</td>\n",
       "    </tr>\n",
       "    <tr>\n",
       "      <td>214</td>\n",
       "      <td>101262930.jpg</td>\n",
       "      <td>4</td>\n",
       "      <td>An Asian couple sitting on the bench .</td>\n",
       "    </tr>\n",
       "  </tbody>\n",
       "</table>\n",
       "</div>"
      ],
      "text/plain": [
       "           image_id  no                                               desc\n",
       "205  1012328893.jpg   0   A group of people picnicking at picnic tables...\n",
       "206  1012328893.jpg   1   A group of people enjoying a beautiful day in...\n",
       "207  1012328893.jpg   2   A group of people are having a picnic at the ...\n",
       "208  1012328893.jpg   3   The reunion is in full swing with a moon boun...\n",
       "209  1012328893.jpg   4    A group of people having a barbecue at a park .\n",
       "210   101262930.jpg   0   Two asian or spanish people , a woman and a m...\n",
       "211   101262930.jpg   1   A man in sunglasses puts his arm around a wom...\n",
       "212   101262930.jpg   2   A man in sunglasses puts his arm around a wom...\n",
       "213   101262930.jpg   3    A man and woman pose in front of some traffic .\n",
       "214   101262930.jpg   4             An Asian couple sitting on the bench ."
      ]
     },
     "execution_count": 189,
     "metadata": {},
     "output_type": "execute_result"
    }
   ],
   "source": [
    "descriptions.tail(10)"
   ]
  },
  {
   "cell_type": "code",
   "execution_count": 190,
   "metadata": {},
   "outputs": [],
   "source": [
    "# limpeza_texto\n",
    "descriptions['desc'] = descriptions['desc'].apply(lambda x : clean_text(str(x)))"
   ]
  },
  {
   "cell_type": "code",
   "execution_count": 191,
   "metadata": {},
   "outputs": [
    {
     "data": {
      "text/plain": [
       "str"
      ]
     },
     "execution_count": 191,
     "metadata": {},
     "output_type": "execute_result"
    }
   ],
   "source": [
    "type(descriptions['desc'][0])"
   ]
  },
  {
   "cell_type": "code",
   "execution_count": 192,
   "metadata": {},
   "outputs": [],
   "source": [
    "# designção da imagem_com descrição respectiva\n",
    "desc_map = load_decriptions(descriptions) # image name with Its captions"
   ]
  },
  {
   "cell_type": "code",
   "execution_count": 193,
   "metadata": {},
   "outputs": [],
   "source": [
    "# atribuição_vocábulos\n",
    "vocabulary = to_vocabluary(desc_map)"
   ]
  },
  {
   "cell_type": "code",
   "execution_count": 194,
   "metadata": {},
   "outputs": [
    {
     "data": {
      "text/plain": [
       "585"
      ]
     },
     "execution_count": 194,
     "metadata": {},
     "output_type": "execute_result"
    }
   ],
   "source": [
    "len(vocabulary)"
   ]
  },
  {
   "cell_type": "code",
   "execution_count": 195,
   "metadata": {},
   "outputs": [],
   "source": [
    "save_descriptions(desc_map , 'descriptions.txt')"
   ]
  },
  {
   "cell_type": "markdown",
   "metadata": {},
   "source": [
    "## setor_treino"
   ]
  },
  {
   "cell_type": "code",
   "execution_count": 196,
   "metadata": {},
   "outputs": [],
   "source": [
    "from pickle import load\n",
    "\n",
    "# carregamento de documento\n",
    "def load_doc(filename):\n",
    "    file = open(filename , 'r')\n",
    "    text = file.read()\n",
    "    file.close()\n",
    "    return text\n",
    "\n",
    "# função_descrição_arquivo_treino\n",
    "def load_clean_descriptions(filename , dataset):\n",
    "    doc = load_doc(filename)\n",
    "    descriptions = dict()\n",
    "    \n",
    "    for line in doc.split('\\n'):\n",
    "        tokens = line.split()\n",
    "        image_id , image_desc = tokens[0] , tokens[1:]\n",
    "        \n",
    "        if image_id in dataset:\n",
    "            \n",
    "            if image_id not in descriptions:\n",
    "                descriptions[image_id] = list()\n",
    "            \n",
    "            # colocação_tag_início_fim_texto\n",
    "            desc = 'startseq '+ ' '.join(image_desc)+ ' endseq'\n",
    "            descriptions[image_id].append(desc)\n",
    "            \n",
    "    return descriptions\n",
    "\n",
    "# Carregar_foto_features\n",
    "def load_photo_features(filename , dataset):\n",
    "    all_features = load(open(filename,'rb'))\n",
    "    features = {k+'.jpg' : all_features[k] for k in dataset}\n",
    "    return features"
   ]
  },
  {
   "cell_type": "code",
   "execution_count": 197,
   "metadata": {},
   "outputs": [
    {
     "name": "stdout",
     "output_type": "stream",
     "text": [
      "len of train image 41\n"
     ]
    }
   ],
   "source": [
    "#definição_treino\n",
    "train = set(descriptions['image_id'][:204])\n",
    "print('len of train image',len(train))"
   ]
  },
  {
   "cell_type": "code",
   "execution_count": 198,
   "metadata": {},
   "outputs": [
    {
     "data": {
      "text/plain": [
       "{'1000092795.jpg',\n",
       " '10002456.jpg',\n",
       " '1000268201.jpg',\n",
       " '1000344755.jpg',\n",
       " '1000366164.jpg',\n",
       " '1000523639.jpg',\n",
       " '10010052.jpg',\n",
       " '1001465944.jpg',\n",
       " '1001545525.jpg',\n",
       " '1003420127.jpg',\n",
       " '1003428081.jpg',\n",
       " '100444898.jpg',\n",
       " '1005216151.jpg',\n",
       " '100577935.jpg',\n",
       " '1006452823.jpg',\n",
       " '100652400.jpg',\n",
       " '1007129816.jpg',\n",
       " '100716317.jpg',\n",
       " '1007205537.jpg',\n",
       " '1007320043.jpg',\n",
       " '100759042.jpg',\n",
       " '10082347.jpg',\n",
       " '10082348.jpg',\n",
       " '100845130.jpg',\n",
       " '10090841.jpg',\n",
       " '1009434119.jpg',\n",
       " '1009692167.jpg',\n",
       " '101001624.jpg',\n",
       " '1010031975.jpg',\n",
       " '1010087179.jpg',\n",
       " '1010087623.jpg',\n",
       " '10101477.jpg',\n",
       " '1010470346.jpg',\n",
       " '1010673430.jpg',\n",
       " '101093029.jpg',\n",
       " '101093045.jpg',\n",
       " '1011572216.jpg',\n",
       " '1012150929.jpg',\n",
       " '1012212859.jpg',\n",
       " '19663663.jpg',\n",
       " '207344485.jpg'}"
      ]
     },
     "execution_count": 198,
     "metadata": {},
     "output_type": "execute_result"
    }
   ],
   "source": [
    "train"
   ]
  },
  {
   "cell_type": "code",
   "execution_count": 199,
   "metadata": {},
   "outputs": [
    {
     "name": "stdout",
     "output_type": "stream",
     "text": [
      "len of train descriptions 41\n"
     ]
    }
   ],
   "source": [
    "# operações_com_treino\n",
    "train_descriptions = load_clean_descriptions('descriptions.txt' , train)\n",
    "print('len of train descriptions' , len(train_descriptions))"
   ]
  },
  {
   "cell_type": "code",
   "execution_count": 200,
   "metadata": {},
   "outputs": [],
   "source": [
    "train = pd.DataFrame(train)\n",
    "train2 = train[0].apply(lambda x : x.replace('.jpg' , '')) # limpar_designação_jpg"
   ]
  },
  {
   "cell_type": "code",
   "execution_count": 201,
   "metadata": {},
   "outputs": [
    {
     "data": {
      "text/plain": [
       "0     1010087623\n",
       "1     1000523639\n",
       "2      100577935\n",
       "3       10082347\n",
       "4     1009434119\n",
       "5     1012212859\n",
       "6     1010470346\n",
       "7     1003420127\n",
       "8      100652400\n",
       "9       10101477\n",
       "10    1001545525\n",
       "11      10082348\n",
       "12    1012150929\n",
       "13    1000344755\n",
       "14     100845130\n",
       "15      10002456\n",
       "16    1000092795\n",
       "17     100716317\n",
       "18    1003428081\n",
       "19     207344485\n",
       "20    1000268201\n",
       "21    1001465944\n",
       "22     101093045\n",
       "23    1005216151\n",
       "24      19663663\n",
       "25    1007205537\n",
       "26    1010673430\n",
       "27    1010087179\n",
       "28    1011572216\n",
       "29    1009692167\n",
       "30    1010031975\n",
       "31    1007129816\n",
       "32    1007320043\n",
       "33      10090841\n",
       "34     101001624\n",
       "35      10010052\n",
       "36     100444898\n",
       "37     100759042\n",
       "38    1006452823\n",
       "39     101093029\n",
       "40    1000366164\n",
       "Name: 0, dtype: object"
      ]
     },
     "execution_count": 201,
     "metadata": {},
     "output_type": "execute_result"
    }
   ],
   "source": [
    "train2"
   ]
  },
  {
   "cell_type": "code",
   "execution_count": 202,
   "metadata": {},
   "outputs": [
    {
     "name": "stdout",
     "output_type": "stream",
     "text": [
      "Model: \"model_13\"\n",
      "_________________________________________________________________\n",
      "Layer (type)                 Output Shape              Param #   \n",
      "=================================================================\n",
      "input_16 (InputLayer)        (None, 224, 224, 3)       0         \n",
      "_________________________________________________________________\n",
      "block1_conv1 (Conv2D)        (None, 224, 224, 64)      1792      \n",
      "_________________________________________________________________\n",
      "block1_conv2 (Conv2D)        (None, 224, 224, 64)      36928     \n",
      "_________________________________________________________________\n",
      "block1_pool (MaxPooling2D)   (None, 112, 112, 64)      0         \n",
      "_________________________________________________________________\n",
      "block2_conv1 (Conv2D)        (None, 112, 112, 128)     73856     \n",
      "_________________________________________________________________\n",
      "block2_conv2 (Conv2D)        (None, 112, 112, 128)     147584    \n",
      "_________________________________________________________________\n",
      "block2_pool (MaxPooling2D)   (None, 56, 56, 128)       0         \n",
      "_________________________________________________________________\n",
      "block3_conv1 (Conv2D)        (None, 56, 56, 256)       295168    \n",
      "_________________________________________________________________\n",
      "block3_conv2 (Conv2D)        (None, 56, 56, 256)       590080    \n",
      "_________________________________________________________________\n",
      "block3_conv3 (Conv2D)        (None, 56, 56, 256)       590080    \n",
      "_________________________________________________________________\n",
      "block3_pool (MaxPooling2D)   (None, 28, 28, 256)       0         \n",
      "_________________________________________________________________\n",
      "block4_conv1 (Conv2D)        (None, 28, 28, 512)       1180160   \n",
      "_________________________________________________________________\n",
      "block4_conv2 (Conv2D)        (None, 28, 28, 512)       2359808   \n",
      "_________________________________________________________________\n",
      "block4_conv3 (Conv2D)        (None, 28, 28, 512)       2359808   \n",
      "_________________________________________________________________\n",
      "block4_pool (MaxPooling2D)   (None, 14, 14, 512)       0         \n",
      "_________________________________________________________________\n",
      "block5_conv1 (Conv2D)        (None, 14, 14, 512)       2359808   \n",
      "_________________________________________________________________\n",
      "block5_conv2 (Conv2D)        (None, 14, 14, 512)       2359808   \n",
      "_________________________________________________________________\n",
      "block5_conv3 (Conv2D)        (None, 14, 14, 512)       2359808   \n",
      "_________________________________________________________________\n",
      "block5_pool (MaxPooling2D)   (None, 7, 7, 512)         0         \n",
      "_________________________________________________________________\n",
      "flatten (Flatten)            (None, 25088)             0         \n",
      "_________________________________________________________________\n",
      "fc1 (Dense)                  (None, 4096)              102764544 \n",
      "_________________________________________________________________\n",
      "fc2 (Dense)                  (None, 4096)              16781312  \n",
      "=================================================================\n",
      "Total params: 134,260,544\n",
      "Trainable params: 134,260,544\n",
      "Non-trainable params: 0\n",
      "_________________________________________________________________\n",
      "None\n",
      "1000092795.jpg\n",
      "10002456.jpg\n",
      "1000268201.jpg\n",
      "1000344755.jpg\n",
      "1000366164.jpg\n",
      "1000523639.jpg\n",
      "10010052.jpg\n",
      "1001465944.jpg\n",
      "1001545525.jpg\n",
      "1003420127.jpg\n",
      "1003428081.jpg\n",
      "100444898.jpg\n",
      "1005216151.jpg\n",
      "100577935.jpg\n",
      "1006452823.jpg\n",
      "100652400.jpg\n",
      "1007129816.jpg\n",
      "100716317.jpg\n",
      "1007205537.jpg\n",
      "1007320043.jpg\n",
      "100759042.jpg\n",
      "10082347.jpg\n",
      "10082348.jpg\n",
      "100845130.jpg\n",
      "10090841.jpg\n",
      "1009434119.jpg\n",
      "1009692167.jpg\n",
      "101001624.jpg\n",
      "1010031975.jpg\n",
      "1010087179.jpg\n",
      "1010087623.jpg\n",
      "10101477.jpg\n",
      "1010470346.jpg\n",
      "1010673430.jpg\n",
      "101093029.jpg\n",
      "101093045.jpg\n",
      "1011572216.jpg\n",
      "1012150929.jpg\n",
      "1012212859.jpg\n",
      "1012328893.jpg\n",
      "101262930.jpg\n",
      "19663663.jpg\n",
      "207344485.jpg\n"
     ]
    }
   ],
   "source": [
    "# rede_neural_keras_VGG16_extração_features_photos\n",
    "directory = 'images1'\n",
    "features = extract_features(directory)\n",
    "# print('extracted features :',len(features))\n",
    "dump(features , open('features.pkl' , 'wb'))"
   ]
  },
  {
   "cell_type": "code",
   "execution_count": 203,
   "metadata": {},
   "outputs": [
    {
     "name": "stdout",
     "output_type": "stream",
     "text": [
      "photos train : 41\n"
     ]
    }
   ],
   "source": [
    "# treino_features_retiradas\n",
    "train_features = load_photo_features('features.pkl' , train2)\n",
    "print('photos train :',len(train_features))"
   ]
  },
  {
   "cell_type": "code",
   "execution_count": 204,
   "metadata": {},
   "outputs": [],
   "source": [
    "# conversão_dicionário_legendas\n",
    "\n",
    "def to_lines(descriptions):\n",
    "    all_desc = list()\n",
    "    for key in descriptions.keys():\n",
    "        [all_desc.append(d) for d in descriptions[key]]\n",
    "        \n",
    "    return all_desc\n",
    "\n",
    "# ajuste do tokenizer_descrições\n",
    "def create_tokenizer(descriptions):\n",
    "    lines = to_lines(descriptions)\n",
    "    tokenizer = Tokenizer()\n",
    "    tokenizer.fit_on_texts(lines)\n",
    "    return tokenizer"
   ]
  },
  {
   "cell_type": "code",
   "execution_count": 205,
   "metadata": {},
   "outputs": [
    {
     "name": "stdout",
     "output_type": "stream",
     "text": [
      "vocab size 570\n"
     ]
    }
   ],
   "source": [
    "tokenizer = create_tokenizer(train_descriptions)\n",
    "vocab_size = len(tokenizer.word_index) + 1\n",
    "print('vocab size' , vocab_size)"
   ]
  },
  {
   "cell_type": "code",
   "execution_count": 206,
   "metadata": {},
   "outputs": [],
   "source": [
    "# descrição_mais_extensa\n",
    "def max_length(descriptions):\n",
    "    lines = to_lines(descriptions)\n",
    "    return max([len(line.split())for line in lines])"
   ]
  },
  {
   "cell_type": "code",
   "execution_count": 207,
   "metadata": {},
   "outputs": [],
   "source": [
    "# sequencias_imagens_entrada_saída\n",
    "def create_sequences(tokenizer , max_length , desc_list , photo):\n",
    "    X1 , X2 , y = list() , list() , list()\n",
    "    \n",
    "    for desc in desc_list:\n",
    "        # convert words to number value\n",
    "        seq = tokenizer.texts_to_sequences([desc])[0]\n",
    "        \n",
    "        for i in range(1, len(seq)):\n",
    "            \n",
    "            in_seq , output_seq = seq[:i] , seq[i]\n",
    "            in_seq = pad_sequences([in_seq] , maxlen = max_length)[0]\n",
    "            output_seq = to_categorical([output_seq] , num_classes = vocab_size)[0]\n",
    "            \n",
    "            X1.append(photo)\n",
    "            X2.append(in_seq)\n",
    "            y.append(output_seq)\n",
    "            \n",
    "    return np.array(X1) , np.array(X2) , np.array(y)\n",
    "\n",
    "# definição_rede_neural\n",
    "def define_Model(vocab_size , max_length):\n",
    "    \n",
    "    # rede_extração_feature\n",
    "    inputs1 = Input(shape=(4096 , ))\n",
    "    fe1 = Dropout(0.5)(inputs1)\n",
    "    fe2 = Dense(512 , activation='relu')(fe1)\n",
    "    fe3 = Dense(256 , activation = 'relu')(fe2)\n",
    "    \n",
    "    # rede_sequencia\n",
    "    inputs2 = Input(shape=(max_length,))\n",
    "    se1 = Embedding(vocab_size,512,mask_zero=True )(inputs2) # mask_zero = ignore padding\n",
    "    se2 = Dropout(0.5)(se1)\n",
    "    se3 = LSTM(512 , return_sequences=True)(se2)\n",
    "    se4 = Dropout(0.5)(se3)\n",
    "    se5 = LSTM(256)(se4)\n",
    "        \n",
    "    # rede_decoder\n",
    "    decoder1 = add([fe3 , se5])\n",
    "    decoder2 = Dense(256 , activation='relu')(decoder1)\n",
    "    decoder3 = Dense(512 , activation='relu')(decoder2)\n",
    "    outputs = Dense(vocab_size , activation='softmax')(decoder3)\n",
    "    \n",
    "    # conexão_imagem_texto\n",
    "    model = Model([inputs1 , inputs2] , outputs)\n",
    "    model.compile(loss='categorical_crossentropy' , optimizer = 'adam')\n",
    "    \n",
    "    # sumário\n",
    "    print(model.summary())\n",
    "    \n",
    "    return model"
   ]
  },
  {
   "cell_type": "markdown",
   "metadata": {},
   "source": [
    "## Geração de Dados"
   ]
  },
  {
   "cell_type": "code",
   "execution_count": 208,
   "metadata": {},
   "outputs": [
    {
     "name": "stdout",
     "output_type": "stream",
     "text": [
      "len : 41\n",
      "Descriptions : 41\n",
      "photos train : 41\n",
      "Vocabulary size : 570\n"
     ]
    }
   ],
   "source": [
    "# código_em_grupo\n",
    "def data_generator(descriptions , photos , tokenizer , max_length):\n",
    "    while 1:\n",
    "        for key , desc_list in descriptions.items():\n",
    "            photo = photos[key][0]\n",
    "            in_img , in_seq , out_seq = create_sequences(tokenizer , max_length , desc_list , photo)\n",
    "            \n",
    "            yield[[in_img , in_seq] , out_seq]\n",
    "\n",
    "print('len :', len(train))\n",
    "print('Descriptions :',len(train_descriptions))\n",
    "print('photos train :',len(train_features))\n",
    "print('Vocabulary size :',vocab_size)"
   ]
  },
  {
   "cell_type": "code",
   "execution_count": 209,
   "metadata": {},
   "outputs": [
    {
     "name": "stdout",
     "output_type": "stream",
     "text": [
      "Description max length : 80\n"
     ]
    }
   ],
   "source": [
    "# descrição_mais_extensa\n",
    "max_len = max_length(train_descriptions)\n",
    "print('Description max length :', max_len)"
   ]
  },
  {
   "cell_type": "markdown",
   "metadata": {},
   "source": [
    "## Operação_treino"
   ]
  },
  {
   "cell_type": "code",
   "execution_count": 210,
   "metadata": {},
   "outputs": [
    {
     "name": "stdout",
     "output_type": "stream",
     "text": [
      "Model: \"model_14\"\n",
      "__________________________________________________________________________________________________\n",
      "Layer (type)                    Output Shape         Param #     Connected to                     \n",
      "==================================================================================================\n",
      "input_18 (InputLayer)           (None, 80)           0                                            \n",
      "__________________________________________________________________________________________________\n",
      "embedding_4 (Embedding)         (None, 80, 512)      291840      input_18[0][0]                   \n",
      "__________________________________________________________________________________________________\n",
      "input_17 (InputLayer)           (None, 4096)         0                                            \n",
      "__________________________________________________________________________________________________\n",
      "dropout_11 (Dropout)            (None, 80, 512)      0           embedding_4[0][0]                \n",
      "__________________________________________________________________________________________________\n",
      "dropout_10 (Dropout)            (None, 4096)         0           input_17[0][0]                   \n",
      "__________________________________________________________________________________________________\n",
      "lstm_7 (LSTM)                   (None, 80, 512)      2099200     dropout_11[0][0]                 \n",
      "__________________________________________________________________________________________________\n",
      "dense_16 (Dense)                (None, 512)          2097664     dropout_10[0][0]                 \n",
      "__________________________________________________________________________________________________\n",
      "dropout_12 (Dropout)            (None, 80, 512)      0           lstm_7[0][0]                     \n",
      "__________________________________________________________________________________________________\n",
      "dense_17 (Dense)                (None, 256)          131328      dense_16[0][0]                   \n",
      "__________________________________________________________________________________________________\n",
      "lstm_8 (LSTM)                   (None, 256)          787456      dropout_12[0][0]                 \n",
      "__________________________________________________________________________________________________\n",
      "add_4 (Add)                     (None, 256)          0           dense_17[0][0]                   \n",
      "                                                                 lstm_8[0][0]                     \n",
      "__________________________________________________________________________________________________\n",
      "dense_18 (Dense)                (None, 256)          65792       add_4[0][0]                      \n",
      "__________________________________________________________________________________________________\n",
      "dense_19 (Dense)                (None, 512)          131584      dense_18[0][0]                   \n",
      "__________________________________________________________________________________________________\n",
      "dense_20 (Dense)                (None, 570)          292410      dense_19[0][0]                   \n",
      "==================================================================================================\n",
      "Total params: 5,897,274\n",
      "Trainable params: 5,897,274\n",
      "Non-trainable params: 0\n",
      "__________________________________________________________________________________________________\n",
      "None\n"
     ]
    }
   ],
   "source": [
    "# definição_rede_neural\n",
    "model = define_Model(vocab_size , max_len)\n",
    "epochs = 5\n",
    "steps = len(train_descriptions)"
   ]
  },
  {
   "cell_type": "code",
   "execution_count": 211,
   "metadata": {},
   "outputs": [
    {
     "name": "stdout",
     "output_type": "stream",
     "text": [
      "Epoch 1/1\n",
      "41/41 [==============================] - 71s 2s/step - loss: 5.5535\n",
      "Epoch 1/1\n",
      "41/41 [==============================] - 69s 2s/step - loss: 5.0531\n",
      "Epoch 1/1\n",
      "41/41 [==============================] - 70s 2s/step - loss: 4.9910\n",
      "Epoch 1/1\n",
      "41/41 [==============================] - 70s 2s/step - loss: 4.9580\n",
      "Epoch 1/1\n",
      "41/41 [==============================] - 70s 2s/step - loss: 4.8302\n"
     ]
    }
   ],
   "source": [
    "# execução_rede_neural\n",
    "for i in range(epochs):\n",
    "    generator = data_generator(train_descriptions , train_features , tokenizer , max_len)\n",
    "    \n",
    "    model.fit_generator(generator , epochs = 1 , steps_per_epoch = steps , verbose = 1)\n",
    "    \n",
    "    model.save('model_'+ str(i+1) + '.h5')"
   ]
  },
  {
   "cell_type": "markdown",
   "metadata": {},
   "source": [
    "## Métrica_\"Bleu\"_Avaliação"
   ]
  },
  {
   "cell_type": "code",
   "execution_count": 212,
   "metadata": {},
   "outputs": [],
   "source": [
    "# função_geração_descrição_legenda\n",
    "def word_for_id(integer , tokenizer):\n",
    "    for word,index in tokenizer.word_index.items():\n",
    "        if index == integer:\n",
    "            return word\n",
    "\n",
    "def generate_desc(model , tokenizer , photo , max_length):\n",
    "    \n",
    "    input_text = 'startseq'\n",
    "    \n",
    "    for i in range(max_length):\n",
    "        \n",
    "        sequence = tokenizer.texts_to_sequences([input_text])[0]\n",
    "        sequence = pad_sequences([sequence] , maxlen=max_length)\n",
    "        \n",
    "        # predict the next word\n",
    "        next_word_id = model.predict([photo,sequence],verbose = 0)\n",
    "        \n",
    "        # get highest probality word from list of words\n",
    "        next_word_id = np.argmax(next_word_id)\n",
    "        \n",
    "        # get word from id\n",
    "        word = word_for_id(next_word_id , tokenizer)\n",
    "        \n",
    "        if word is None:\n",
    "            break\n",
    "            \n",
    "        # update input text\n",
    "        input_text += ' '+ word\n",
    "        \n",
    "        if word == 'endseq':\n",
    "            break\n",
    "            \n",
    "    return input_text"
   ]
  },
  {
   "cell_type": "code",
   "execution_count": 237,
   "metadata": {},
   "outputs": [],
   "source": [
    "def evaluate_model(model , desciptions , photos , tokenizer , max_length):\n",
    "    actual , predicted = list() , list()\n",
    "    \n",
    "    for key , desc_list in desciptions.items():\n",
    "        generated_desc = generate_desc(model , tokenizer , photos[key] , max_length)\n",
    "        references = [d.split() for d in desc_list]\n",
    "        actual.append(references)\n",
    "        predicted.append(generated_desc.split())\n",
    "        \n",
    "    print('Bleu_Score -1 = %f'%corpus_bleu(actual , predicted , weights=(1,0,0,0)))\n",
    "    \n",
    "    print('Bleu_Score -2 = %f'%corpus_bleu(actual , predicted , weights=(0.5,0.5,0,0)))\n",
    "    \n",
    "    print('Bleu_Score -3 = %f'%corpus_bleu(actual , predicted , weights=(0.43,0.43,0,0))) \n",
    "    \n",
    "    print('Bleu_Score -4 = %f'%corpus_bleu(actual , predicted , weights=(0.1,0.1,0.09,0.05)))"
   ]
  },
  {
   "cell_type": "markdown",
   "metadata": {},
   "source": [
    "## Operação_Teste"
   ]
  },
  {
   "cell_type": "code",
   "execution_count": 238,
   "metadata": {},
   "outputs": [
    {
     "data": {
      "text/html": [
       "<div>\n",
       "<style scoped>\n",
       "    .dataframe tbody tr th:only-of-type {\n",
       "        vertical-align: middle;\n",
       "    }\n",
       "\n",
       "    .dataframe tbody tr th {\n",
       "        vertical-align: top;\n",
       "    }\n",
       "\n",
       "    .dataframe thead th {\n",
       "        text-align: right;\n",
       "    }\n",
       "</style>\n",
       "<table border=\"1\" class=\"dataframe\">\n",
       "  <thead>\n",
       "    <tr style=\"text-align: right;\">\n",
       "      <th></th>\n",
       "      <th>image_id</th>\n",
       "      <th>no</th>\n",
       "      <th>desc</th>\n",
       "    </tr>\n",
       "  </thead>\n",
       "  <tbody>\n",
       "    <tr>\n",
       "      <td>0</td>\n",
       "      <td>19663663.jpg</td>\n",
       "      <td>0</td>\n",
       "      <td>four young adult sit outside on a wooden deck ...</td>\n",
       "    </tr>\n",
       "    <tr>\n",
       "      <td>1</td>\n",
       "      <td>19663663.jpg</td>\n",
       "      <td>1</td>\n",
       "      <td>a group of young people sitting around visitin...</td>\n",
       "    </tr>\n",
       "    <tr>\n",
       "      <td>2</td>\n",
       "      <td>19663663.jpg</td>\n",
       "      <td>2</td>\n",
       "      <td>people are having a conversation and a water b...</td>\n",
       "    </tr>\n",
       "    <tr>\n",
       "      <td>3</td>\n",
       "      <td>19663663.jpg</td>\n",
       "      <td>3</td>\n",
       "      <td>a group of people are sitting on a porch and t...</td>\n",
       "    </tr>\n",
       "    <tr>\n",
       "      <td>4</td>\n",
       "      <td>19663663.jpg</td>\n",
       "      <td>4</td>\n",
       "      <td>a group of friend out on a deck</td>\n",
       "    </tr>\n",
       "    <tr>\n",
       "      <td>...</td>\n",
       "      <td>...</td>\n",
       "      <td>...</td>\n",
       "      <td>...</td>\n",
       "    </tr>\n",
       "    <tr>\n",
       "      <td>210</td>\n",
       "      <td>101262930.jpg</td>\n",
       "      <td>0</td>\n",
       "      <td>two asian or spanish people a woman and a man ...</td>\n",
       "    </tr>\n",
       "    <tr>\n",
       "      <td>211</td>\n",
       "      <td>101262930.jpg</td>\n",
       "      <td>1</td>\n",
       "      <td>a man in sunglass put his arm around a woman i...</td>\n",
       "    </tr>\n",
       "    <tr>\n",
       "      <td>212</td>\n",
       "      <td>101262930.jpg</td>\n",
       "      <td>2</td>\n",
       "      <td>a man in sunglass put his arm around a woman</td>\n",
       "    </tr>\n",
       "    <tr>\n",
       "      <td>213</td>\n",
       "      <td>101262930.jpg</td>\n",
       "      <td>3</td>\n",
       "      <td>a man and woman pose in front of some traffic</td>\n",
       "    </tr>\n",
       "    <tr>\n",
       "      <td>214</td>\n",
       "      <td>101262930.jpg</td>\n",
       "      <td>4</td>\n",
       "      <td>an asian couple sitting on the bench</td>\n",
       "    </tr>\n",
       "  </tbody>\n",
       "</table>\n",
       "<p>215 rows × 3 columns</p>\n",
       "</div>"
      ],
      "text/plain": [
       "          image_id  no                                               desc\n",
       "0     19663663.jpg   0  four young adult sit outside on a wooden deck ...\n",
       "1     19663663.jpg   1  a group of young people sitting around visitin...\n",
       "2     19663663.jpg   2  people are having a conversation and a water b...\n",
       "3     19663663.jpg   3  a group of people are sitting on a porch and t...\n",
       "4     19663663.jpg   4                    a group of friend out on a deck\n",
       "..             ...  ..                                                ...\n",
       "210  101262930.jpg   0  two asian or spanish people a woman and a man ...\n",
       "211  101262930.jpg   1  a man in sunglass put his arm around a woman i...\n",
       "212  101262930.jpg   2       a man in sunglass put his arm around a woman\n",
       "213  101262930.jpg   3      a man and woman pose in front of some traffic\n",
       "214  101262930.jpg   4               an asian couple sitting on the bench\n",
       "\n",
       "[215 rows x 3 columns]"
      ]
     },
     "execution_count": 238,
     "metadata": {},
     "output_type": "execute_result"
    }
   ],
   "source": [
    "descriptions"
   ]
  },
  {
   "cell_type": "code",
   "execution_count": 239,
   "metadata": {},
   "outputs": [
    {
     "data": {
      "text/plain": [
       "{'1012328893.jpg', '101262930.jpg'}"
      ]
     },
     "execution_count": 239,
     "metadata": {},
     "output_type": "execute_result"
    }
   ],
   "source": [
    "test = set(descriptions['image_id'][205:214])\n",
    "test_descriptions = load_clean_descriptions('descriptions.txt',test)\n",
    "test"
   ]
  },
  {
   "cell_type": "code",
   "execution_count": 240,
   "metadata": {},
   "outputs": [],
   "source": [
    "test = pd.DataFrame(test)\n",
    "test2 = test[0].apply(lambda x : x.replace('.jpg' , '')) # remove jpg sign"
   ]
  },
  {
   "cell_type": "code",
   "execution_count": 241,
   "metadata": {},
   "outputs": [
    {
     "data": {
      "text/plain": [
       "0     101262930\n",
       "1    1012328893\n",
       "Name: 0, dtype: object"
      ]
     },
     "execution_count": 241,
     "metadata": {},
     "output_type": "execute_result"
    }
   ],
   "source": [
    "test2.head(3)"
   ]
  },
  {
   "cell_type": "code",
   "execution_count": 242,
   "metadata": {},
   "outputs": [],
   "source": [
    "test_features = load_photo_features('features.pkl',test2)"
   ]
  },
  {
   "cell_type": "code",
   "execution_count": 243,
   "metadata": {},
   "outputs": [],
   "source": [
    "from keras.models import load_model"
   ]
  },
  {
   "cell_type": "code",
   "execution_count": 244,
   "metadata": {},
   "outputs": [
    {
     "name": "stdout",
     "output_type": "stream",
     "text": [
      "len of test dataset 2\n",
      "len of Descriptions 2\n",
      "len of Test features 2\n",
      "Bleu_Score -1 = 0.055556\n",
      "Bleu_Score -2 = 0.026352\n",
      "Bleu_Score -3 = 0.043843\n",
      "Bleu_Score -4 = 0.000000\n"
     ]
    }
   ],
   "source": [
    "filename = 'model_2.h5'\n",
    "model = load_model(filename)\n",
    "\n",
    "print('len of test dataset',len(test))\n",
    "print('len of Descriptions',len(test_descriptions))\n",
    "print('len of Test features',len(test_features))\n",
    "\n",
    "evaluate_model(model , test_descriptions , test_features , tokenizer , max_len)\n",
    "\n",
    "dump(tokenizer , open('tokenizer.pkl','wb'))\n"
   ]
  },
  {
   "cell_type": "markdown",
   "metadata": {},
   "source": [
    "## Teste_imagens_adicionais"
   ]
  },
  {
   "cell_type": "code",
   "execution_count": 245,
   "metadata": {},
   "outputs": [],
   "source": [
    "def word_for_id(integer , tokenizer):\n",
    "    for word,index in tokenizer.word_index.items():\n",
    "        if index == integer:\n",
    "            return word\n",
    "        \n",
    "def generate_desc(model , tokenizer , photo , max_length):\n",
    "    \n",
    "    input_text = 'startseq'\n",
    "    \n",
    "    for i in range(max_length):\n",
    "        \n",
    "        sequence = tokenizer.texts_to_sequences([input_text])[0]\n",
    "        sequence = pad_sequences([sequence] , maxlen=max_length)\n",
    "        \n",
    "        # predict the next word\n",
    "        next_word_id = model.predict([photo,sequence],verbose = 0)\n",
    "        \n",
    "        # get highest probality word from list of words\n",
    "        next_word_id = np.argmax(next_word_id)\n",
    "        \n",
    "        # get word from id\n",
    "        word = word_for_id(next_word_id , tokenizer)\n",
    "        \n",
    "        if word is None:\n",
    "            break\n",
    "            \n",
    "        # update input text\n",
    "        input_text += ' '+ word\n",
    "        \n",
    "        if word == 'endseq':\n",
    "            break\n",
    "            \n",
    "    return input_text\n",
    "\n",
    "def extract_features_for_one_image(filename):\n",
    "    model = VGG16()\n",
    "    model.layers.pop()\n",
    "    \n",
    "    model = Model(inputs = model.inputs , outputs = model.layers[-1].output)\n",
    "    \n",
    "    image = load_img(filename , target_size=(224,224))\n",
    "    \n",
    "    image = img_to_array(image)\n",
    "    \n",
    "    image = image.reshape((1,image.shape[0],image.shape[1],image.shape[2]))\n",
    "    \n",
    "    image = preprocess_input(image)\n",
    "    \n",
    "    feature = model.predict(image , verbose = 0)\n",
    "    \n",
    "    return feature\n",
    "\n",
    "def get_image_caption(filename,model):\n",
    "    tokenizer = load(open('tokenizer.pkl','rb'))\n",
    "    photo = extract_features_for_one_image(filename)\n",
    "    desc = generate_desc(model , tokenizer , photo , 80)\n",
    "    desc = desc.replace('startseq','')\n",
    "    desc = desc.replace('endseq','')\n",
    "    return desc.title()"
   ]
  },
  {
   "cell_type": "code",
   "execution_count": 246,
   "metadata": {},
   "outputs": [],
   "source": [
    "model2 = load_model('model_1.h5')"
   ]
  },
  {
   "cell_type": "code",
   "execution_count": 247,
   "metadata": {},
   "outputs": [],
   "source": [
    "from IPython.display import Image,display"
   ]
  },
  {
   "cell_type": "markdown",
   "metadata": {},
   "source": [
    "## Teste_imagem_específica"
   ]
  },
  {
   "cell_type": "code",
   "execution_count": 248,
   "metadata": {},
   "outputs": [],
   "source": [
    "filename = '36979.jpg'"
   ]
  },
  {
   "cell_type": "code",
   "execution_count": 249,
   "metadata": {},
   "outputs": [
    {
     "data": {
      "image/jpeg": "[encoded data removed]",
      "text/plain": [
       "<IPython.core.display.Image object>"
      ]
     },
     "metadata": {},
     "output_type": "display_data"
    }
   ],
   "source": [
    "display(Image(filename))"
   ]
  },
  {
   "cell_type": "code",
   "execution_count": 250,
   "metadata": {},
   "outputs": [
    {
     "name": "stdout",
     "output_type": "stream",
     "text": [
      " A A A A A A A \n"
     ]
    }
   ],
   "source": [
    "print(get_image_caption(filename,model2))"
   ]
  },
  {
   "cell_type": "code",
   "execution_count": null,
   "metadata": {},
   "outputs": [],
   "source": []
  }
 ],
 "metadata": {
  "kernelspec": {
   "display_name": "Python 3",
   "language": "python",
   "name": "python3"
  },
  "language_info": {
   "codemirror_mode": {
    "name": "ipython",
    "version": 3
   },
   "file_extension": ".py",
   "mimetype": "text/x-python",
   "name": "python",
   "nbconvert_exporter": "python",
   "pygments_lexer": "ipython3",
   "version": "3.7.4"
  }
 },
 "nbformat": 4,
 "nbformat_minor": 2
}
